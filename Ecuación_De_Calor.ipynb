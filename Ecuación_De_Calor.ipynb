{
 "cells": [
  {
   "cell_type": "code",
   "execution_count": 1,
   "metadata": {},
   "outputs": [
    {
     "data": {
      "text/plain": [
       "<Figure size 640x480 with 0 Axes>"
      ]
     },
     "execution_count": 1,
     "metadata": {},
     "output_type": "execute_result"
    }
   ],
   "source": [
    "import matplotlib.pyplot as plt\n",
    "import numpy as np\n",
    "plt.figure()"
   ]
  },
  {
   "cell_type": "code",
   "execution_count": 2,
   "metadata": {},
   "outputs": [
    {
     "name": "stdout",
     "output_type": "stream",
     "text": [
      "Ecuación de calor en 1 dimensión:diferencias por detras\n",
      "Tamaño de malla en X10\n",
      "Tamaño de malla en Y10\n",
      "Constante de Calor3\n"
     ]
    }
   ],
   "source": [
    "print(\"Ecuación de calor en 1 dimensión:diferencias por detras\")\n",
    "A=int(input(\"Tamaño de malla en X\"))\n",
    "B=int(input(\"Tamaño de malla en Y\"))\n",
    "alfa=float(input(\"Constante de Calor\"))\n",
    "a=float(1/A)\n",
    "b=float(1/B)"
   ]
  },
  {
   "cell_type": "code",
   "execution_count": 3,
   "metadata": {},
   "outputs": [
    {
     "name": "stdout",
     "output_type": "stream",
     "text": [
      "para poner las condiciones ponga los numeros separados por espacios, o si es constante solo ponga 1 numero\n",
      "Condicion inferior y=0 x=x \n",
      "5\n",
      "Condicion izquierda y=y x=0, poner solo los  10  terminos que faltan de arriba hacia abajo\n",
      "-2\n",
      "Condicion derecha y=y x=  10  , poner solo los  10  terminos que faltan de arriba hacia abajo\n",
      "3\n"
     ]
    },
    {
     "data": {
      "image/png": "[encoded data removed]",
      "text/plain": [
       "<Figure size 432x288 with 2 Axes>"
      ]
     },
     "metadata": {},
     "output_type": "display_data"
    }
   ],
   "source": [
    "tabla=[]\n",
    "tabla1=[]\n",
    "for i in range(B+1):\n",
    "    tabla.append([0]*(A+1))\n",
    "for i in range(B+1):\n",
    "    tabla1.append([0]*(A+1))\n",
    "print(\"para poner las condiciones ponga los numeros separados por espacios, o si es constante solo ponga 1 numero\")\n",
    "print(\"Condicion inferior y=0 x=x \")\n",
    "condicion2=[float(x) for x in input().split()]\n",
    "if len(condicion2)==(1):\n",
    "    condicion2=([condicion2[0]]*(A+1))\n",
    "print(\"Condicion izquierda y=y x=0, poner solo los \",(B), \" terminos que faltan de arriba hacia abajo\")  \n",
    "condicion3=[float(x) for x in input().split()]\n",
    "if len(condicion3)==(1):\n",
    "    condicion3=([condicion3[0]]*(B))\n",
    "print(\"Condicion derecha y=y x= \",A,\" , poner solo los \",(B), \" terminos que faltan de arriba hacia abajo\")\n",
    "condicion4=[float(x) for x in input().split()]\n",
    "if len(condicion4)==(1):\n",
    "    condicion4=([condicion4[0]]*(B))\n",
    "tabla[0]=condicion2\n",
    "for x in range(1,B+1):\n",
    "    tabla[x][0]=condicion3[x-1]\n",
    "    tabla[x][A]=condicion4[x-1]\n",
    "for z in range (1,500):\n",
    "    for y in range(1,B+1):\n",
    "        for x in range(1,A):\n",
    "            tabla[y][x]=(1/(a**2+2*b*alfa))*(a**2*tabla[y-1][x]+b*alfa*(tabla[y][x+1]+tabla[y][x-1]))\n",
    "for x in range(0,B+1):\n",
    "    tabla1[x]=tabla[B-x]\n",
    "plt.autoscale(enable=True, axis='both', tight=False)\n",
    "plt.imshow(tabla,cmap=\"coolwarm\",origin='lower')\n",
    "plt.colorbar()\n",
    "plt.show()\n"
   ]
  },
  {
   "cell_type": "code",
   "execution_count": null,
   "metadata": {},
   "outputs": [],
   "source": []
  }
 ],
 "metadata": {
  "kernelspec": {
   "display_name": "Python 3",
   "language": "python",
   "name": "python3"
  },
  "language_info": {
   "codemirror_mode": {
    "name": "ipython",
    "version": 3
   },
   "file_extension": ".py",
   "mimetype": "text/x-python",
   "name": "python",
   "nbconvert_exporter": "python",
   "pygments_lexer": "ipython3",
   "version": "3.6.5"
  }
 },
 "nbformat": 4,
 "nbformat_minor": 2
}
