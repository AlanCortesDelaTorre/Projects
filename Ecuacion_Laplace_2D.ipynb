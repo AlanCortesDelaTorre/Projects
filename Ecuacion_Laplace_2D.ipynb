{
 "cells": [
  {
   "cell_type": "code",
   "execution_count": 3,
   "metadata": {},
   "outputs": [],
   "source": [
    "import matplotlib.pyplot as plt\n",
    "import numpy as np"
   ]
  },
  {
   "cell_type": "code",
   "execution_count": 9,
   "metadata": {},
   "outputs": [
    {
     "name": "stdout",
     "output_type": "stream",
     "text": [
      "Ecuación de laplace 2 dimensiones\n",
      "Cordenada x maxima10\n",
      "Coordenada y maxima 10\n"
     ]
    },
    {
     "data": {
      "text/plain": [
       "<Figure size 432x288 with 0 Axes>"
      ]
     },
     "metadata": {},
     "output_type": "display_data"
    }
   ],
   "source": [
    "plt.figure()\n",
    "print(\"Ecuación de laplace 2 dimensiones\")\n",
    "A=int(input(\"Cordenada x maxima\"))\n",
    "B=int(input(\"Coordenada y maxima \"))\n",
    "a=float(1/A)\n",
    "b=float(1/B)\n",
    "tabla=[]\n",
    "tabla1=[]\n",
    "for i in range(B+1):\n",
    "    tabla.append([0]*(A+1))\n",
    "for i in range(B+1):\n",
    "    tabla1.append([0]*(A+1))"
   ]
  },
  {
   "cell_type": "code",
   "execution_count": 11,
   "metadata": {},
   "outputs": [
    {
     "name": "stdout",
     "output_type": "stream",
     "text": [
      "para poner las condiciones ponga los numeros separados por espacios, o si es constante solo ponga 1 numero\n",
      "Condicion superior y=  10 x=x \n",
      "5\n",
      "Condicion inferior y=0 x=x \n",
      "-10\n",
      "Condicion izquierda y=y x=0, poner solo los  9  terminos que faltan de arriba hacia abajo\n",
      "3\n",
      "Condicion derecha y=y x=  10  , poner solo los  9  terminos que faltan de arriba hacia abajo\n",
      "20\n"
     ]
    },
    {
     "data": {
      "image/png": "[encoded data removed]",
      "text/plain": [
       "<Figure size 432x288 with 2 Axes>"
      ]
     },
     "metadata": {},
     "output_type": "display_data"
    }
   ],
   "source": [
    "print(\"para poner las condiciones ponga los numeros separados por espacios, o si es constante solo ponga 1 numero\")\n",
    "print(\"Condicion superior y= \", B ,\"x=x \")\n",
    "condicion1=[float(x) for x in input().split()]\n",
    "if len(condicion1)==(1):\n",
    "    condicion1=([condicion1[0]]*(A+1))\n",
    "print(\"Condicion inferior y=0 x=x \")\n",
    "condicion2=[float(x) for x in input().split()]\n",
    "if len(condicion2)==(1):\n",
    "    condicion2=([condicion2[0]]*(A+1))\n",
    "print(\"Condicion izquierda y=y x=0, poner solo los \",(B-1), \" terminos que faltan de arriba hacia abajo\")  \n",
    "condicion3=[float(x) for x in input().split()]\n",
    "if len(condicion3)==(1):\n",
    "    condicion3=([condicion3[0]]*(B-1))\n",
    "print(\"Condicion derecha y=y x= \",A,\" , poner solo los \",(B-1), \" terminos que faltan de arriba hacia abajo\")\n",
    "condicion4=[float(x) for x in input().split()]\n",
    "if len(condicion4)==(1):\n",
    "    condicion4=([condicion4[0]]*(B-1))\n",
    "tabla[0]=condicion1\n",
    "tabla[B]=condicion2\n",
    "for x in range(B-1):\n",
    "    tabla[x+1][0]=condicion3[x]\n",
    "    tabla[x+1][A]=condicion4[x]\n",
    "for z in range (1,500):\n",
    "    for y in range(1,B):\n",
    "        for x in range(1,A):\n",
    "            tabla[y][x]=(1/((1/a**2)+(1/b**2)))*((1/(2*(a**2)))*(tabla[y][x+1]+tabla[y][x-1])+(1/(2*(b**2)))*(tabla[y+1][x]+tabla[y-1][x]))\n",
    "for x in range(0,B+1):\n",
    "    tabla1[x]=tabla[B-x]\n",
    "plt.imshow(tabla1,cmap=\"coolwarm\",origin='lower')\n",
    "plt.colorbar()\n",
    "plt.show()"
   ]
  },
  {
   "cell_type": "code",
   "execution_count": null,
   "metadata": {},
   "outputs": [],
   "source": []
  }
 ],
 "metadata": {
  "kernelspec": {
   "display_name": "Python 3",
   "language": "python",
   "name": "python3"
  },
  "language_info": {
   "codemirror_mode": {
    "name": "ipython",
    "version": 3
   },
   "file_extension": ".py",
   "mimetype": "text/x-python",
   "name": "python",
   "nbconvert_exporter": "python",
   "pygments_lexer": "ipython3",
   "version": "3.6.5"
  }
 },
 "nbformat": 4,
 "nbformat_minor": 2
}
